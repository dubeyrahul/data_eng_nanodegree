{
 "cells": [
  {
   "cell_type": "code",
   "execution_count": 1,
   "metadata": {
    "collapsed": true
   },
   "outputs": [],
   "source": [
    "from pyspark.sql import functions as F"
   ]
  },
  {
   "cell_type": "code",
   "execution_count": 2,
   "metadata": {
    "collapsed": false
   },
   "outputs": [
    {
     "data": {
      "text/html": [
       "\n",
       "            <div>\n",
       "                <p><b>SparkSession - hive</b></p>\n",
       "                \n",
       "        <div>\n",
       "            <p><b>SparkContext</b></p>\n",
       "\n",
       "            <p><a href=\"http://rvdubey:4041\">Spark UI</a></p>\n",
       "\n",
       "            <dl>\n",
       "              <dt>Version</dt>\n",
       "                <dd><code>v2.4.5</code></dd>\n",
       "              <dt>Master</dt>\n",
       "                <dd><code>local[4]</code></dd>\n",
       "              <dt>AppName</dt>\n",
       "                <dd><code>pyspark-shell</code></dd>\n",
       "            </dl>\n",
       "        </div>\n",
       "        \n",
       "            </div>\n",
       "        "
      ],
      "text/plain": [
       "<pyspark.sql.session.SparkSession at 0x7fe0d165afd0>"
      ]
     },
     "execution_count": 2,
     "metadata": {},
     "output_type": "execute_result"
    }
   ],
   "source": [
    "spark"
   ]
  },
  {
   "cell_type": "markdown",
   "metadata": {},
   "source": [
    "### Read the transformed data"
   ]
  },
  {
   "cell_type": "code",
   "execution_count": 3,
   "metadata": {
    "collapsed": false
   },
   "outputs": [],
   "source": [
    "immigration_df = spark.read.parquet(\"transformed_data/i94_transformed/\")\n",
    "temperature_df = spark.read.parquet(\"transformed_data/temperature_transformed/\")\n",
    "demographics_df = spark.read.parquet(\"transformed_data/demographics_transformed/\")"
   ]
  },
  {
   "cell_type": "code",
   "execution_count": 4,
   "metadata": {
    "collapsed": false
   },
   "outputs": [
    {
     "name": "stdout",
     "output_type": "stream",
     "text": [
      "root\n",
      " |-- immigration_year: integer (nullable = true)\n",
      " |-- immigration_month: integer (nullable = true)\n",
      " |-- immigration_source: string (nullable = true)\n",
      " |-- immigration_destination_port: string (nullable = true)\n",
      " |-- immigrant_age: integer (nullable = true)\n",
      " |-- immigration_state: string (nullable = true)\n",
      " |-- visa_code: double (nullable = true)\n",
      " |-- gender: string (nullable = true)\n",
      " |-- visa_type: string (nullable = true)\n",
      "\n"
     ]
    }
   ],
   "source": [
    "immigration_df.printSchema()"
   ]
  },
  {
   "cell_type": "code",
   "execution_count": 5,
   "metadata": {
    "collapsed": false
   },
   "outputs": [
    {
     "name": "stdout",
     "output_type": "stream",
     "text": [
      "root\n",
      " |-- city: string (nullable = true)\n",
      " |-- month: string (nullable = true)\n",
      " |-- avg_temperature: double (nullable = true)\n",
      "\n"
     ]
    }
   ],
   "source": [
    "temperature_df.printSchema()"
   ]
  },
  {
   "cell_type": "code",
   "execution_count": 6,
   "metadata": {
    "collapsed": false
   },
   "outputs": [
    {
     "name": "stdout",
     "output_type": "stream",
     "text": [
      "root\n",
      " |-- city: string (nullable = true)\n",
      " |-- median_age: double (nullable = true)\n",
      " |-- male_population: integer (nullable = true)\n",
      " |-- female_population: integer (nullable = true)\n",
      " |-- total_population: integer (nullable = true)\n",
      " |-- foreign_born: integer (nullable = true)\n",
      " |-- houshold_size: double (nullable = true)\n",
      " |-- state: string (nullable = true)\n",
      " |-- african_american: long (nullable = true)\n",
      " |-- hispanic: long (nullable = true)\n",
      " |-- white: long (nullable = true)\n",
      " |-- asian: long (nullable = true)\n",
      " |-- native_american: long (nullable = true)\n",
      "\n"
     ]
    }
   ],
   "source": [
    "demographics_df.printSchema()"
   ]
  },
  {
   "cell_type": "markdown",
   "metadata": {},
   "source": [
    "### Top-10 Cities with most immigration in 2016"
   ]
  },
  {
   "cell_type": "code",
   "execution_count": 9,
   "metadata": {
    "collapsed": false
   },
   "outputs": [
    {
     "name": "stdout",
     "output_type": "stream",
     "text": [
      "Top 20 cities with most immigration in 2016: \n",
      "['new york', 'miami', 'los angeles', 'san francisco', 'honolulu', 'newark/teterboro', 'chicago', 'orlando', 'houston', 'agana', 'unknown', 'atlanta', 'fort lauderdale', 'dallas', 'boston', 'las vegas', 'seattle', 'saipan', 'detroit', 'philadelphia']\n"
     ]
    }
   ],
   "source": [
    "top_20_cities = [row['immigration_destination_port'] \n",
    "                      for row in immigration_df.groupby('immigration_destination_port').count().sort(F.col(\"count\").desc()).take(20)]\n",
    "print(\"Top 20 cities with most immigration in 2016: \")\n",
    "print(top_20_cities)"
   ]
  },
  {
   "cell_type": "markdown",
   "metadata": {},
   "source": [
    "**Top-10 cities with most immigrants as students**"
   ]
  },
  {
   "cell_type": "code",
   "execution_count": 10,
   "metadata": {
    "collapsed": false
   },
   "outputs": [
    {
     "name": "stdout",
     "output_type": "stream",
     "text": [
      "+----------------------------+------+\n",
      "|immigration_destination_port|count |\n",
      "+----------------------------+------+\n",
      "|new york                    |262438|\n",
      "|los angeles                 |194823|\n",
      "|chicago                     |170813|\n",
      "|san francisco               |114824|\n",
      "|boston                      |89755 |\n",
      "|unknown                     |75599 |\n",
      "|newark/teterboro            |67041 |\n",
      "|miami                       |64788 |\n",
      "|seattle                     |63296 |\n",
      "|dallas                      |61066 |\n",
      "+----------------------------+------+\n",
      "only showing top 10 rows\n",
      "\n"
     ]
    }
   ],
   "source": [
    "immigration_df.filter(\"visa_type = 'F1'\").groupby('immigration_destination_port').count().sort(F.col(\"count\").desc()).show(10, False)"
   ]
  },
  {
   "cell_type": "markdown",
   "metadata": {},
   "source": [
    "**This makes sense as NY, LA, Chicago, SF, Boston are known for their colleges and universities.**\n",
    "NOTE: Here Unknown means we could not find a mapping in I-94 dataset"
   ]
  },
  {
   "cell_type": "markdown",
   "metadata": {},
   "source": [
    "**Top-10 cities with most immigrants for tourism**"
   ]
  },
  {
   "cell_type": "code",
   "execution_count": 11,
   "metadata": {
    "collapsed": false
   },
   "outputs": [
    {
     "name": "stdout",
     "output_type": "stream",
     "text": [
      "+----------------------------+-------+\n",
      "|immigration_destination_port|count  |\n",
      "+----------------------------+-------+\n",
      "|miami                       |3414807|\n",
      "|new york                    |2703032|\n",
      "|los angeles                 |1900427|\n",
      "|houston                     |916565 |\n",
      "|san francisco               |877266 |\n",
      "|orlando                     |817880 |\n",
      "|fort lauderdale             |817167 |\n",
      "|chicago                     |774546 |\n",
      "|unknown                     |620965 |\n",
      "|newark/teterboro            |575530 |\n",
      "+----------------------------+-------+\n",
      "only showing top 10 rows\n",
      "\n"
     ]
    }
   ],
   "source": [
    "immigration_df.filter(\"visa_type = 'B1' OR visa_type = 'B2'\").groupby('immigration_destination_port').count().sort(F.col(\"count\").desc()).show(10, False)"
   ]
  },
  {
   "cell_type": "markdown",
   "metadata": {},
   "source": [
    "**This makes sense as we see a lot of tourist-y places here like Miami, NY and even Orlando**"
   ]
  },
  {
   "cell_type": "markdown",
   "metadata": {},
   "source": [
    "**Top-10 cities with most business travel**"
   ]
  },
  {
   "cell_type": "code",
   "execution_count": 13,
   "metadata": {
    "collapsed": false
   },
   "outputs": [
    {
     "name": "stdout",
     "output_type": "stream",
     "text": [
      "+----------------------------+-------+\n",
      "|immigration_destination_port|count  |\n",
      "+----------------------------+-------+\n",
      "|new york                    |3643075|\n",
      "|los angeles                 |2463068|\n",
      "|honolulu                    |2056488|\n",
      "|miami                       |1597582|\n",
      "|san francisco               |1293873|\n",
      "|newark/teterboro            |1204346|\n",
      "|orlando                     |857383 |\n",
      "|chicago                     |816490 |\n",
      "|boston                      |561680 |\n",
      "|atlanta                     |531525 |\n",
      "+----------------------------+-------+\n",
      "only showing top 10 rows\n",
      "\n"
     ]
    }
   ],
   "source": [
    "immigration_df.filter(\"visa_type = 'WB' OR visa_type = 'WT'\").groupby('immigration_destination_port').count().sort(F.col(\"count\").desc()).show(10, False)"
   ]
  },
  {
   "cell_type": "markdown",
   "metadata": {},
   "source": [
    "**Which month has most student travelers**"
   ]
  },
  {
   "cell_type": "code",
   "execution_count": 14,
   "metadata": {
    "collapsed": false
   },
   "outputs": [
    {
     "name": "stdout",
     "output_type": "stream",
     "text": [
      "Maximum student travel happens in month:  8\n"
     ]
    }
   ],
   "source": [
    "max_month_students = immigration_df.filter(\"visa_type = 'F1'\").groupby('immigration_month').count().sort(F.col(\"count\").desc()).collect()[0]['immigration_month']\n",
    "print(\"Maximum student travel happens in month: \", max_month_students)"
   ]
  },
  {
   "cell_type": "markdown",
   "metadata": {},
   "source": [
    "**This is explained by the fact that a lot of universities begin their Fall intake around August/September**"
   ]
  },
  {
   "cell_type": "code",
   "execution_count": 15,
   "metadata": {
    "collapsed": false
   },
   "outputs": [
    {
     "name": "stdout",
     "output_type": "stream",
     "text": [
      "+---------+--------+\n",
      "|visa_type|   count|\n",
      "+---------+--------+\n",
      "|       F2|   68866|\n",
      "|      GMB|    2728|\n",
      "|       B2|15188785|\n",
      "|       F1| 1487432|\n",
      "|      CPL|     236|\n",
      "|       I1|    2825|\n",
      "|       WB| 2940456|\n",
      "|       M1|   16306|\n",
      "|       B1| 2282096|\n",
      "|       WT|16915615|\n",
      "|       M2|     667|\n",
      "|       CP|  272007|\n",
      "|      GMT| 1265275|\n",
      "|       E1|   48905|\n",
      "|        I|   39054|\n",
      "|       E2|  259215|\n",
      "|      SBP|      61|\n",
      "+---------+--------+\n",
      "\n"
     ]
    }
   ],
   "source": [
    "immigration_df.groupBy('visa_type').count().show()"
   ]
  },
  {
   "cell_type": "markdown",
   "metadata": {},
   "source": [
    "**Below we compute a \"diversity\" score by taking standard-deviation of population of each race**\n",
    "\n",
    "NOTE: This is a rather naive method but for now we stick with this heuristic"
   ]
  },
  {
   "cell_type": "code",
   "execution_count": 18,
   "metadata": {
    "collapsed": false
   },
   "outputs": [],
   "source": [
    "from pyspark.sql.types import FloatType\n",
    "from pyspark.sql.functions import udf\n",
    "def diverse_score(a, b, c, d, e):\n",
    "    import statistics\n",
    "    if not a: a=10\n",
    "    if not b: b=10\n",
    "    if not c: c=10\n",
    "    if not d: d=10\n",
    "    if not e: e=10\n",
    "    array = [a,b,c,d,e]\n",
    "    return float(statistics.pstdev(array))\n",
    "diverse_score_udf = udf(diverse_score, FloatType())\n",
    "immigration_df_top_20 = immigration_df.filter(\n",
    "    (F.col('immigration_destination_port').isin(top_20_cities)) &\n",
    "    (F.col('immigration_month')==max_month_students)\n",
    ")\n",
    "diversity_df = demographics_df.withColumn('diversity',\n",
    "                        diverse_score_udf('african_american', 'white', 'hispanic', 'asian', 'native_american'))\n",
    "top_20_diverse_cities = [row['city'] for row in diversity_df.orderBy(F.desc('diversity')).select('city').collect()[:20]]"
   ]
  },
  {
   "cell_type": "code",
   "execution_count": 19,
   "metadata": {
    "collapsed": false
   },
   "outputs": [
    {
     "data": {
      "text/plain": [
       "['new york',\n",
       " 'los angeles',\n",
       " 'houston',\n",
       " 'san antonio',\n",
       " 'chicago',\n",
       " 'phoenix',\n",
       " 'san diego',\n",
       " 'dallas',\n",
       " 'philadelphia',\n",
       " 'el paso',\n",
       " 'austin',\n",
       " 'fort worth',\n",
       " 'detroit',\n",
       " 'indianapolis',\n",
       " 'columbus',\n",
       " 'jacksonville',\n",
       " 'denver',\n",
       " 'portland',\n",
       " 'seattle',\n",
       " 'san jose']"
      ]
     },
     "execution_count": 19,
     "metadata": {},
     "output_type": "execute_result"
    }
   ],
   "source": [
    "top_20_diverse_cities"
   ]
  },
  {
   "cell_type": "markdown",
   "metadata": {},
   "source": [
    "**Here, we see a lot of coastal cities and urban areas in the diverse cities**"
   ]
  },
  {
   "cell_type": "code",
   "execution_count": null,
   "metadata": {
    "collapsed": true
   },
   "outputs": [],
   "source": [
    "immigration_demographics = immigration_df_top_20.join(demographics_df, immigration_df.immigration_destination_port == demographics_df.city, how='inner')\n",
    "immigration_demographics = immigration_demographics.withColumn('diversity',\n",
    "                                                               diverse_score_udf('african_american', 'white', 'hispanic', 'asian', 'native_american'))\n",
    "\n",
    "immigration_demographics.printSchema()"
   ]
  },
  {
   "cell_type": "code",
   "execution_count": null,
   "metadata": {
    "collapsed": false
   },
   "outputs": [],
   "source": [
    "immigration_demographics.dropDuplicates([\"city\",\"diversity\"]).orderBy(F.desc('diversity'))\\\n",
    ".select('city', 'visa_type', 'diversity').show(100)"
   ]
  },
  {
   "cell_type": "code",
   "execution_count": null,
   "metadata": {
    "collapsed": true
   },
   "outputs": [],
   "source": []
  }
 ],
 "metadata": {
  "kernelspec": {
   "display_name": "PySpark",
   "language": "python",
   "name": "pyspark"
  },
  "language_info": {
   "codemirror_mode": {
    "name": "ipython",
    "version": 3
   },
   "file_extension": ".py",
   "mimetype": "text/x-python",
   "name": "python",
   "nbconvert_exporter": "python",
   "pygments_lexer": "ipython3",
   "version": "3.6.9"
  },
  "toc": {
   "colors": {
    "hover_highlight": "#DAA520",
    "running_highlight": "#FF0000",
    "selected_highlight": "#FFD700"
   },
   "moveMenuLeft": true,
   "nav_menu": {
    "height": "62px",
    "width": "252px"
   },
   "navigate_menu": true,
   "number_sections": true,
   "sideBar": true,
   "threshold": 4,
   "toc_cell": false,
   "toc_section_display": "block",
   "toc_window_display": false,
   "widenNotebook": false
  }
 },
 "nbformat": 4,
 "nbformat_minor": 2
}
