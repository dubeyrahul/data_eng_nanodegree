{
 "cells": [
  {
   "cell_type": "code",
   "execution_count": 7,
   "metadata": {
    "collapsed": true
   },
   "outputs": [],
   "source": [
    "from pyspark.sql import functions as F"
   ]
  },
  {
   "cell_type": "code",
   "execution_count": 1,
   "metadata": {
    "collapsed": false
   },
   "outputs": [
    {
     "data": {
      "text/html": [
       "\n",
       "            <div>\n",
       "                <p><b>SparkSession - hive</b></p>\n",
       "                \n",
       "        <div>\n",
       "            <p><b>SparkContext</b></p>\n",
       "\n",
       "            <p><a href=\"http://rvdubey:4041\">Spark UI</a></p>\n",
       "\n",
       "            <dl>\n",
       "              <dt>Version</dt>\n",
       "                <dd><code>v2.4.5</code></dd>\n",
       "              <dt>Master</dt>\n",
       "                <dd><code>local[4]</code></dd>\n",
       "              <dt>AppName</dt>\n",
       "                <dd><code>pyspark-shell</code></dd>\n",
       "            </dl>\n",
       "        </div>\n",
       "        \n",
       "            </div>\n",
       "        "
      ],
      "text/plain": [
       "<pyspark.sql.session.SparkSession at 0x7f284e1b2fd0>"
      ]
     },
     "execution_count": 1,
     "metadata": {},
     "output_type": "execute_result"
    }
   ],
   "source": [
    "spark"
   ]
  },
  {
   "cell_type": "code",
   "execution_count": 2,
   "metadata": {
    "collapsed": true
   },
   "outputs": [],
   "source": [
    "immigration_df = spark.read.parquet(\"transformed_data/i94_transformed/\")\n",
    "temperature_df = spark.read.parquet(\"transformed_data/temperature_transformed/\")\n",
    "demographics_df = spark.read.parquet(\"transformed_data/demographics_transformed/\")"
   ]
  },
  {
   "cell_type": "code",
   "execution_count": 3,
   "metadata": {
    "collapsed": false
   },
   "outputs": [
    {
     "name": "stdout",
     "output_type": "stream",
     "text": [
      "root\n",
      " |-- immigration_year: integer (nullable = true)\n",
      " |-- immigration_month: integer (nullable = true)\n",
      " |-- immigration_source: string (nullable = true)\n",
      " |-- immigration_destination_port: string (nullable = true)\n",
      " |-- immigrant_age: integer (nullable = true)\n",
      " |-- immigration_state: string (nullable = true)\n",
      " |-- visa_code: double (nullable = true)\n",
      " |-- gender: string (nullable = true)\n",
      " |-- visa_type: string (nullable = true)\n",
      "\n"
     ]
    }
   ],
   "source": [
    "immigration_df.printSchema()"
   ]
  },
  {
   "cell_type": "code",
   "execution_count": 4,
   "metadata": {
    "collapsed": false
   },
   "outputs": [
    {
     "name": "stdout",
     "output_type": "stream",
     "text": [
      "root\n",
      " |-- city: string (nullable = true)\n",
      " |-- month: string (nullable = true)\n",
      " |-- avg_temperature: double (nullable = true)\n",
      "\n"
     ]
    }
   ],
   "source": [
    "temperature_df.printSchema()"
   ]
  },
  {
   "cell_type": "code",
   "execution_count": 5,
   "metadata": {
    "collapsed": false
   },
   "outputs": [
    {
     "name": "stdout",
     "output_type": "stream",
     "text": [
      "root\n",
      " |-- city: string (nullable = true)\n",
      " |-- median_age: double (nullable = true)\n",
      " |-- male_population: integer (nullable = true)\n",
      " |-- female_population: integer (nullable = true)\n",
      " |-- total_population: integer (nullable = true)\n",
      " |-- foreign_born: integer (nullable = true)\n",
      " |-- houshold_size: double (nullable = true)\n",
      " |-- state: string (nullable = true)\n",
      " |-- african_american: long (nullable = true)\n",
      " |-- hispanic: long (nullable = true)\n",
      " |-- white: long (nullable = true)\n",
      " |-- asian: long (nullable = true)\n",
      " |-- native_american: long (nullable = true)\n",
      "\n"
     ]
    }
   ],
   "source": [
    "demographics_df.printSchema()"
   ]
  },
  {
   "cell_type": "markdown",
   "metadata": {},
   "source": [
    "**Top-10 Cities with most immigration in 2016**"
   ]
  },
  {
   "cell_type": "code",
   "execution_count": 8,
   "metadata": {
    "collapsed": false
   },
   "outputs": [
    {
     "name": "stdout",
     "output_type": "stream",
     "text": [
      "+----------------------------+-------+\n",
      "|immigration_destination_port|count  |\n",
      "+----------------------------+-------+\n",
      "|new york                    |6678555|\n",
      "|miami                       |5122889|\n",
      "|los angeles                 |4602847|\n",
      "|san francisco               |2309621|\n",
      "|honolulu                    |2249967|\n",
      "|newark/teterboro            |1867734|\n",
      "|chicago                     |1798697|\n",
      "|orlando                     |1698944|\n",
      "|houston                     |1347272|\n",
      "|agana                       |1337940|\n",
      "+----------------------------+-------+\n",
      "only showing top 10 rows\n",
      "\n"
     ]
    }
   ],
   "source": [
    "immigration_df.groupby('immigration_destination_port').count().sort(F.col(\"count\").desc()).show(10, False)"
   ]
  },
  {
   "cell_type": "code",
   "execution_count": 39,
   "metadata": {
    "collapsed": false
   },
   "outputs": [
    {
     "data": {
      "text/plain": [
       "{'agana',\n",
       " 'alexandria bay',\n",
       " 'anchorage',\n",
       " 'anzalduas',\n",
       " 'atlanta',\n",
       " 'austin',\n",
       " 'baltimore',\n",
       " 'bangor',\n",
       " 'blaine',\n",
       " 'boston',\n",
       " 'bradenton - sarasota',\n",
       " 'bridge of americas',\n",
       " 'brownsville',\n",
       " 'buffalo',\n",
       " 'calais',\n",
       " 'calexico',\n",
       " 'cannon intl - reno/tahoe',\n",
       " 'champlain',\n",
       " 'charlotte',\n",
       " 'charlotte amalie',\n",
       " 'chicago',\n",
       " 'cincinnati',\n",
       " 'cleveland',\n",
       " 'columbus',\n",
       " 'dallas',\n",
       " 'denver',\n",
       " 'derby line',\n",
       " 'detroit',\n",
       " 'dublin',\n",
       " 'fort lauderdale',\n",
       " 'fort myers',\n",
       " 'hakai pass',\n",
       " 'hamilton',\n",
       " 'hidalgo',\n",
       " 'highgate springs',\n",
       " 'honolulu',\n",
       " 'houlton',\n",
       " 'houston',\n",
       " 'juarez-lincoln bridge',\n",
       " 'kahului - maui',\n",
       " 'keahole-kona',\n",
       " 'laredo',\n",
       " 'las vegas',\n",
       " 'lewiston',\n",
       " 'long beach',\n",
       " 'los angeles',\n",
       " 'lynden',\n",
       " 'mcallen',\n",
       " 'miami',\n",
       " 'montreal',\n",
       " 'nassau',\n",
       " 'new orleans',\n",
       " 'new york',\n",
       " 'newark/teterboro',\n",
       " 'niagara falls',\n",
       " 'nogales',\n",
       " 'north caicos',\n",
       " 'oakland',\n",
       " 'ontario',\n",
       " 'opa locka',\n",
       " 'orlando',\n",
       " 'otay mesa',\n",
       " 'palm springs',\n",
       " 'peace bridge',\n",
       " 'pembina',\n",
       " 'philadelphia',\n",
       " 'phoenix',\n",
       " 'piegan',\n",
       " 'pittsburg',\n",
       " 'port everglades',\n",
       " 'port huron',\n",
       " 'portland',\n",
       " 'raleigh/durham',\n",
       " 'roosville',\n",
       " 'sacramento',\n",
       " 'saipan',\n",
       " 'salt lake city',\n",
       " 'san antonio',\n",
       " 'san diego',\n",
       " 'san francisco',\n",
       " 'san jose',\n",
       " 'san juan',\n",
       " 'san ysidro',\n",
       " 'sanford',\n",
       " 'seattle',\n",
       " 'shannon',\n",
       " 'st paul',\n",
       " 'st thomas',\n",
       " 'sumas',\n",
       " 'sweetgtass',\n",
       " 'tampa',\n",
       " 'theodore francis - warwick',\n",
       " 'thousand island bridge',\n",
       " 'toronto',\n",
       " 'tucson',\n",
       " 'unknown',\n",
       " 'vancouver',\n",
       " 'victoria',\n",
       " 'west palm beach',\n",
       " 'ysleta'}"
      ]
     },
     "execution_count": 39,
     "metadata": {},
     "output_type": "execute_result"
    }
   ],
   "source": [
    "top_20_cities = set([row['immigration_destination_port'] \n",
    "                      for row in immigration_df.groupby('immigration_destination_port').count().sort(F.col(\"count\").desc()).take(100)])\n",
    "top_20_cities"
   ]
  },
  {
   "cell_type": "markdown",
   "metadata": {},
   "source": [
    "**Top-10 cities with most immigrants for studies**"
   ]
  },
  {
   "cell_type": "code",
   "execution_count": 13,
   "metadata": {
    "collapsed": false
   },
   "outputs": [
    {
     "name": "stdout",
     "output_type": "stream",
     "text": [
      "+----------------------------+------+\n",
      "|immigration_destination_port|count |\n",
      "+----------------------------+------+\n",
      "|new york                    |262438|\n",
      "|los angeles                 |194823|\n",
      "|chicago                     |170813|\n",
      "|san francisco               |114824|\n",
      "|boston                      |89755 |\n",
      "|unknown                     |75599 |\n",
      "|newark/teterboro            |67041 |\n",
      "|miami                       |64788 |\n",
      "|seattle                     |63296 |\n",
      "|dallas                      |61066 |\n",
      "+----------------------------+------+\n",
      "only showing top 10 rows\n",
      "\n"
     ]
    }
   ],
   "source": [
    "immigration_df.filter(\"visa_type = 'F1'\").groupby('immigration_destination_port').count().sort(F.col(\"count\").desc()).show(10, False)"
   ]
  },
  {
   "cell_type": "markdown",
   "metadata": {},
   "source": [
    "**Top-10 cities with most immigrants for tourism**"
   ]
  },
  {
   "cell_type": "code",
   "execution_count": 15,
   "metadata": {
    "collapsed": false
   },
   "outputs": [
    {
     "name": "stdout",
     "output_type": "stream",
     "text": [
      "+----------------------------+-------+\n",
      "|immigration_destination_port|count  |\n",
      "+----------------------------+-------+\n",
      "|miami                       |3414807|\n",
      "|new york                    |2703032|\n",
      "|los angeles                 |1900427|\n",
      "|houston                     |916565 |\n",
      "|san francisco               |877266 |\n",
      "|orlando                     |817880 |\n",
      "|fort lauderdale             |817167 |\n",
      "|chicago                     |774546 |\n",
      "|unknown                     |620965 |\n",
      "|newark/teterboro            |575530 |\n",
      "+----------------------------+-------+\n",
      "only showing top 10 rows\n",
      "\n"
     ]
    }
   ],
   "source": [
    "immigration_df.filter(\"visa_type = 'B1' OR visa_type = 'B2'\").groupby('immigration_destination_port').count().sort(F.col(\"count\").desc()).show(10, False)"
   ]
  },
  {
   "cell_type": "markdown",
   "metadata": {},
   "source": [
    "**Top-10 cities with most business travel**"
   ]
  },
  {
   "cell_type": "code",
   "execution_count": 17,
   "metadata": {
    "collapsed": false
   },
   "outputs": [
    {
     "name": "stdout",
     "output_type": "stream",
     "text": [
      "+----------------------------+-------+\n",
      "|immigration_destination_port|count  |\n",
      "+----------------------------+-------+\n",
      "|new york                    |3643075|\n",
      "|los angeles                 |2463068|\n",
      "|honolulu                    |2056488|\n",
      "|miami                       |1597582|\n",
      "|san francisco               |1293873|\n",
      "|newark/teterboro            |1204346|\n",
      "|orlando                     |857383 |\n",
      "|chicago                     |816490 |\n",
      "|boston                      |561680 |\n",
      "|atlanta                     |531525 |\n",
      "+----------------------------+-------+\n",
      "only showing top 10 rows\n",
      "\n"
     ]
    }
   ],
   "source": [
    "immigration_df.filter(\"visa_type = 'WB' OR visa_type = 'WT'\").groupby('immigration_destination_port').count().sort(F.col(\"count\").desc()).show(10, False)"
   ]
  },
  {
   "cell_type": "markdown",
   "metadata": {},
   "source": [
    "**Which month has most student travelers**"
   ]
  },
  {
   "cell_type": "code",
   "execution_count": 44,
   "metadata": {
    "collapsed": false
   },
   "outputs": [],
   "source": [
    "max_month_students = immigration_df.filter(\"visa_type = 'F1'\").groupby('immigration_month').count().sort(F.col(\"count\").desc()).collect()[0]['immigration_month']"
   ]
  },
  {
   "cell_type": "code",
   "execution_count": null,
   "metadata": {
    "collapsed": true
   },
   "outputs": [],
   "source": [
    "immigration_df.filter(\"visa_type = 'F1'\").groupby('immigration_destination_port').count().sort(F.col(\"count\").desc()).show(10, False)"
   ]
  },
  {
   "cell_type": "code",
   "execution_count": 16,
   "metadata": {
    "collapsed": false
   },
   "outputs": [
    {
     "name": "stdout",
     "output_type": "stream",
     "text": [
      "+---------+--------+\n",
      "|visa_type|   count|\n",
      "+---------+--------+\n",
      "|       F2|   68866|\n",
      "|      GMB|    2728|\n",
      "|       B2|15188785|\n",
      "|       F1| 1487432|\n",
      "|      CPL|     236|\n",
      "|       I1|    2825|\n",
      "|       WB| 2940456|\n",
      "|       M1|   16306|\n",
      "|       B1| 2282096|\n",
      "|       WT|16915615|\n",
      "|       M2|     667|\n",
      "|       CP|  272007|\n",
      "|      GMT| 1265275|\n",
      "|       E1|   48905|\n",
      "|        I|   39054|\n",
      "|       E2|  259215|\n",
      "|      SBP|      61|\n",
      "+---------+--------+\n",
      "\n"
     ]
    }
   ],
   "source": [
    "immigration_df.groupBy('visa_type').count().show()"
   ]
  },
  {
   "cell_type": "code",
   "execution_count": 51,
   "metadata": {
    "collapsed": false
   },
   "outputs": [],
   "source": [
    "from pyspark.sql.types import FloatType\n",
    "from pyspark.sql.functions import udf\n",
    "def diverse_score(a, b, c, d, e):\n",
    "    import statistics\n",
    "    if not a: a=10\n",
    "    if not b: b=10\n",
    "    if not c: c=10\n",
    "    if not d: d=10\n",
    "    if not e: e=10\n",
    "    array = [a,b,c,d,e]\n",
    "    return float(statistics.pstdev(array))\n",
    "diverse_score_udf = udf(diverse_score, FloatType())\n",
    "immigration_df_top_20 = immigration_df.filter(\n",
    "    (F.col('immigration_destination_port').isin(top_20_cities)) &\n",
    "    (F.col('immigration_month')==max_month_students)\n",
    ")\n",
    "diversity_df = demographics_df.withColumn('diversity',\n",
    "                        diverse_score_udf('african_american', 'white', 'hispanic', 'asian', 'native_american'))\n",
    "top_20_diverse_cities = diversity_df.orderBy(F.desc('diversity')).select('city').collect()[:20]"
   ]
  },
  {
   "cell_type": "code",
   "execution_count": 52,
   "metadata": {
    "collapsed": false
   },
   "outputs": [
    {
     "data": {
      "text/plain": [
       "[Row(city='new york'),\n",
       " Row(city='los angeles'),\n",
       " Row(city='houston'),\n",
       " Row(city='san antonio'),\n",
       " Row(city='chicago'),\n",
       " Row(city='phoenix'),\n",
       " Row(city='san diego'),\n",
       " Row(city='dallas'),\n",
       " Row(city='philadelphia'),\n",
       " Row(city='el paso'),\n",
       " Row(city='austin'),\n",
       " Row(city='fort worth'),\n",
       " Row(city='detroit'),\n",
       " Row(city='indianapolis'),\n",
       " Row(city='columbus'),\n",
       " Row(city='jacksonville'),\n",
       " Row(city='denver'),\n",
       " Row(city='portland'),\n",
       " Row(city='seattle'),\n",
       " Row(city='san jose')]"
      ]
     },
     "execution_count": 52,
     "metadata": {},
     "output_type": "execute_result"
    }
   ],
   "source": [
    "top_20_diverse_cities"
   ]
  },
  {
   "cell_type": "code",
   "execution_count": null,
   "metadata": {
    "collapsed": true
   },
   "outputs": [],
   "source": [
    "immigration_demographics = immigration_df_top_20.join(demographics_df, immigration_df.immigration_destination_port == demographics_df.city, how='inner')\n",
    "immigration_demographics = immigration_demographics.withColumn('diversity',\n",
    "                                                               diverse_score_udf('african_american', 'white', 'hispanic', 'asian', 'native_american'))\n",
    "\n",
    "immigration_demographics.printSchema()"
   ]
  },
  {
   "cell_type": "code",
   "execution_count": 47,
   "metadata": {
    "collapsed": false
   },
   "outputs": [
    {
     "name": "stdout",
     "output_type": "stream",
     "text": [
      "+---------------+---------+----------+\n",
      "|           city|visa_type| diversity|\n",
      "+---------------+---------+----------+\n",
      "|       new york|       F1| 1246493.5|\n",
      "|    los angeles|       WT|  863757.4|\n",
      "|        houston|       B1|  515606.9|\n",
      "|    san antonio|       B2| 511733.94|\n",
      "|        chicago|       WT|  488449.4|\n",
      "|        phoenix|       WT| 438764.22|\n",
      "|      san diego|       B2|  328560.4|\n",
      "|         dallas|       F1| 310543.16|\n",
      "|   philadelphia|       WT| 286383.22|\n",
      "|         austin|       B2|  257024.5|\n",
      "|        detroit|       WB| 203990.31|\n",
      "|       columbus|       B1|  202806.1|\n",
      "|         denver|       B2|  197874.1|\n",
      "|       portland|       WT|  191821.5|\n",
      "|        seattle|       F1| 184081.45|\n",
      "|       san jose|       WT| 179433.14|\n",
      "|  san francisco|       WT| 165125.94|\n",
      "|      charlotte|       WT| 164356.67|\n",
      "|         tucson|       B1| 152321.97|\n",
      "|      baltimore|       F1|  150909.9|\n",
      "|      las vegas|       WT| 150903.98|\n",
      "|          miami|       B2| 149269.52|\n",
      "|       san juan|       WT| 133582.05|\n",
      "|         boston|       WT| 127513.98|\n",
      "|         laredo|       B1|119278.805|\n",
      "|        atlanta|       B2| 101821.16|\n",
      "|     long beach|       F1|  99682.61|\n",
      "|    new orleans|       B2| 90941.164|\n",
      "|          tampa|       WT|  90725.19|\n",
      "|     sacramento|       B2|  85949.53|\n",
      "|    brownsville|       B2|  83797.46|\n",
      "|      cleveland|       WB|  83675.86|\n",
      "|      anchorage|       WT|  72915.62|\n",
      "|     cincinnati|       WT|  69763.84|\n",
      "|        orlando|       F1|  63754.93|\n",
      "|      vancouver|       WT| 55694.863|\n",
      "| salt lake city|       WT| 55410.215|\n",
      "|        oakland|       WT|  54079.74|\n",
      "|        mcallen|       B2| 52773.598|\n",
      "|        buffalo|       WT|  50223.85|\n",
      "|        ontario|       B2| 44465.496|\n",
      "|       columbus|       B1|  43606.32|\n",
      "|fort lauderdale|       B2| 40814.242|\n",
      "|       victoria|       WT| 22932.033|\n",
      "|       portland|       WT| 22738.525|\n",
      "|west palm beach|       B2|  22586.28|\n",
      "|     fort myers|       WT| 17711.215|\n",
      "|      pittsburg|       B2|  9448.342|\n",
      "+---------------+---------+----------+\n",
      "\n"
     ]
    }
   ],
   "source": [
    "immigration_demographics.dropDuplicates([\"city\",\"diversity\"]).orderBy(F.desc('diversity'))\\\n",
    ".select('city', 'visa_type', 'diversity').show(100)"
   ]
  },
  {
   "cell_type": "code",
   "execution_count": null,
   "metadata": {
    "collapsed": true
   },
   "outputs": [],
   "source": []
  }
 ],
 "metadata": {
  "kernelspec": {
   "display_name": "PySpark",
   "language": "python",
   "name": "pyspark"
  },
  "language_info": {
   "codemirror_mode": {
    "name": "ipython",
    "version": 3
   },
   "file_extension": ".py",
   "mimetype": "text/x-python",
   "name": "python",
   "nbconvert_exporter": "python",
   "pygments_lexer": "ipython3",
   "version": "3.6.9"
  },
  "toc": {
   "colors": {
    "hover_highlight": "#DAA520",
    "running_highlight": "#FF0000",
    "selected_highlight": "#FFD700"
   },
   "moveMenuLeft": true,
   "nav_menu": {
    "height": "12px",
    "width": "252px"
   },
   "navigate_menu": true,
   "number_sections": true,
   "sideBar": true,
   "threshold": 4,
   "toc_cell": false,
   "toc_section_display": "block",
   "toc_window_display": false,
   "widenNotebook": false
  }
 },
 "nbformat": 4,
 "nbformat_minor": 2
}
