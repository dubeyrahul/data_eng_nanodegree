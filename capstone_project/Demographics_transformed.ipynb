{
 "cells": [
  {
   "cell_type": "code",
   "execution_count": 1,
   "metadata": {
    "collapsed": true
   },
   "outputs": [],
   "source": [
    "import pandas as pd"
   ]
  },
  {
   "cell_type": "code",
   "execution_count": 9,
   "metadata": {
    "collapsed": true
   },
   "outputs": [],
   "source": [
    "from pyspark.sql import functions as F"
   ]
  },
  {
   "cell_type": "code",
   "execution_count": 2,
   "metadata": {
    "collapsed": false
   },
   "outputs": [
    {
     "data": {
      "text/html": [
       "\n",
       "            <div>\n",
       "                <p><b>SparkSession - hive</b></p>\n",
       "                \n",
       "        <div>\n",
       "            <p><b>SparkContext</b></p>\n",
       "\n",
       "            <p><a href=\"http://rvdubey:4042\">Spark UI</a></p>\n",
       "\n",
       "            <dl>\n",
       "              <dt>Version</dt>\n",
       "                <dd><code>v2.4.5</code></dd>\n",
       "              <dt>Master</dt>\n",
       "                <dd><code>local[4]</code></dd>\n",
       "              <dt>AppName</dt>\n",
       "                <dd><code>pyspark-shell</code></dd>\n",
       "            </dl>\n",
       "        </div>\n",
       "        \n",
       "            </div>\n",
       "        "
      ],
      "text/plain": [
       "<pyspark.sql.session.SparkSession at 0x7f436dbcdf60>"
      ]
     },
     "execution_count": 2,
     "metadata": {},
     "output_type": "execute_result"
    }
   ],
   "source": [
    "spark"
   ]
  },
  {
   "cell_type": "code",
   "execution_count": 23,
   "metadata": {
    "collapsed": false
   },
   "outputs": [],
   "source": [
    "demographics_df = spark.read.load('us-cities-demographics.csv', \n",
    "                                 format=\"csv\", sep=\";\", inferSchema=\"true\", header=\"true\")"
   ]
  },
  {
   "cell_type": "code",
   "execution_count": 24,
   "metadata": {
    "collapsed": false
   },
   "outputs": [
    {
     "name": "stdout",
     "output_type": "stream",
     "text": [
      "root\n",
      " |-- City: string (nullable = true)\n",
      " |-- State: string (nullable = true)\n",
      " |-- Median Age: double (nullable = true)\n",
      " |-- Male Population: integer (nullable = true)\n",
      " |-- Female Population: integer (nullable = true)\n",
      " |-- Total Population: integer (nullable = true)\n",
      " |-- Number of Veterans: integer (nullable = true)\n",
      " |-- Foreign-born: integer (nullable = true)\n",
      " |-- Average Household Size: double (nullable = true)\n",
      " |-- State Code: string (nullable = true)\n",
      " |-- Race: string (nullable = true)\n",
      " |-- Count: integer (nullable = true)\n",
      "\n"
     ]
    }
   ],
   "source": [
    "demographics_df.printSchema()"
   ]
  },
  {
   "cell_type": "code",
   "execution_count": 25,
   "metadata": {
    "collapsed": false
   },
   "outputs": [
    {
     "name": "stdout",
     "output_type": "stream",
     "text": [
      "root\n",
      " |-- city: string (nullable = true)\n",
      " |-- median_age: double (nullable = true)\n",
      " |-- male_population: integer (nullable = true)\n",
      " |-- female_population: integer (nullable = true)\n",
      " |-- total_population: integer (nullable = true)\n",
      " |-- foreign_born: integer (nullable = true)\n",
      " |-- houshold_size: double (nullable = true)\n",
      " |-- state: string (nullable = true)\n",
      " |-- race: string (nullable = true)\n",
      " |-- count_race: integer (nullable = true)\n",
      "\n"
     ]
    }
   ],
   "source": [
    "demographics_df = demographics_df.select(\n",
    "F.lower(F.col('City')).alias('city'),\n",
    "F.col('Median Age').alias('median_age'),\n",
    "F.col('Male Population').alias('male_population'),\n",
    "F.col('Female Population').alias('female_population'),\n",
    "F.col('Total Population').alias('total_population'),\n",
    "F.col('Foreign-born').alias('foreign_born'),\n",
    "F.col('Average Household Size').alias('houshold_size'),\n",
    "F.col('State Code').alias('state'),\n",
    "F.col('Race').alias('race'),\n",
    "F.col('Count').alias('count_race')\n",
    ")\n",
    "demographics_df.printSchema()"
   ]
  },
  {
   "cell_type": "code",
   "execution_count": 35,
   "metadata": {
    "collapsed": false
   },
   "outputs": [
    {
     "data": {
      "text/plain": [
       "[Row(race='Black or African-American'),\n",
       " Row(race='Hispanic or Latino'),\n",
       " Row(race='White'),\n",
       " Row(race='Asian'),\n",
       " Row(race='American Indian and Alaska Native')]"
      ]
     },
     "execution_count": 35,
     "metadata": {},
     "output_type": "execute_result"
    }
   ],
   "source": [
    "demographics_df.select('race').distinct().collect()"
   ]
  },
  {
   "cell_type": "code",
   "execution_count": 27,
   "metadata": {
    "collapsed": false
   },
   "outputs": [
    {
     "data": {
      "text/plain": [
       "['city',\n",
       " 'median_age',\n",
       " 'male_population',\n",
       " 'female_population',\n",
       " 'total_population',\n",
       " 'foreign_born',\n",
       " 'houshold_size',\n",
       " 'state',\n",
       " 'race',\n",
       " 'count_race']"
      ]
     },
     "execution_count": 27,
     "metadata": {},
     "output_type": "execute_result"
    }
   ],
   "source": [
    "demographics_df.columns"
   ]
  },
  {
   "cell_type": "code",
   "execution_count": 28,
   "metadata": {
    "collapsed": true
   },
   "outputs": [],
   "source": [
    "race_names = [\n",
    "    'Black or African-American',\n",
    "    'Hispanic or Latino',\n",
    "    'White',\n",
    "    'Asian',\n",
    "    'American Indian and Alaska Native'\n",
    "]\n",
    "demographics_pivot = demographics_df.groupby(\n",
    "['city',\n",
    " 'median_age',\n",
    " 'male_population',\n",
    " 'female_population',\n",
    " 'total_population',\n",
    " 'foreign_born',\n",
    " 'houshold_size',\n",
    " 'state']).pivot('race', race_names).sum('count_race')"
   ]
  },
  {
   "cell_type": "code",
   "execution_count": 29,
   "metadata": {
    "collapsed": false
   },
   "outputs": [],
   "source": [
    "demographics_pivot = demographics_pivot\\\n",
    ".withColumnRenamed('Black or African-American', 'african_american')\\\n",
    ".withColumnRenamed('Hispanic or Latino', 'hispanic')\\\n",
    ".withColumnRenamed('White', 'white')\\\n",
    ".withColumnRenamed('Asian', 'asian')\\\n",
    ".withColumnRenamed('American Indian and Alaska Native', 'native_american')"
   ]
  },
  {
   "cell_type": "code",
   "execution_count": 30,
   "metadata": {
    "collapsed": false
   },
   "outputs": [
    {
     "name": "stdout",
     "output_type": "stream",
     "text": [
      "root\n",
      " |-- city: string (nullable = true)\n",
      " |-- median_age: double (nullable = true)\n",
      " |-- male_population: integer (nullable = true)\n",
      " |-- female_population: integer (nullable = true)\n",
      " |-- total_population: integer (nullable = true)\n",
      " |-- foreign_born: integer (nullable = true)\n",
      " |-- houshold_size: double (nullable = true)\n",
      " |-- state: string (nullable = true)\n",
      " |-- african_american: long (nullable = true)\n",
      " |-- hispanic: long (nullable = true)\n",
      " |-- white: long (nullable = true)\n",
      " |-- asian: long (nullable = true)\n",
      " |-- native_american: long (nullable = true)\n",
      "\n"
     ]
    }
   ],
   "source": [
    "demographics_pivot.printSchema()"
   ]
  },
  {
   "cell_type": "code",
   "execution_count": 32,
   "metadata": {
    "collapsed": false
   },
   "outputs": [
    {
     "name": "stdout",
     "output_type": "stream",
     "text": [
      "+-------------+----------+---------------+-----------------+----------------+------------+-------------+-----+----------------+--------+------+------+---------------+\n",
      "|         city|median_age|male_population|female_population|total_population|foreign_born|houshold_size|state|african_american|hispanic| white| asian|native_american|\n",
      "+-------------+----------+---------------+-----------------+----------------+------------+-------------+-----+----------------+--------+------+------+---------------+\n",
      "|san francisco|      38.3|         439752|           425064|          864816|      297199|         2.37|   CA|           53270|  132114|442155|324034|           8997|\n",
      "+-------------+----------+---------------+-----------------+----------------+------------+-------------+-----+----------------+--------+------+------+---------------+\n",
      "\n"
     ]
    }
   ],
   "source": [
    "demographics_pivot.filter(\"city = 'san francisco'\").show(10)"
   ]
  },
  {
   "cell_type": "code",
   "execution_count": 33,
   "metadata": {
    "collapsed": false
   },
   "outputs": [
    {
     "data": {
      "text/plain": [
       "596"
      ]
     },
     "execution_count": 33,
     "metadata": {},
     "output_type": "execute_result"
    }
   ],
   "source": [
    "demographics_pivot.count()"
   ]
  },
  {
   "cell_type": "code",
   "execution_count": 34,
   "metadata": {
    "collapsed": true
   },
   "outputs": [],
   "source": [
    "demographics_pivot.repartition(1).write.mode('overwrite').parquet('data/demographics_transformed/')"
   ]
  },
  {
   "cell_type": "code",
   "execution_count": null,
   "metadata": {
    "collapsed": true
   },
   "outputs": [],
   "source": []
  }
 ],
 "metadata": {
  "kernelspec": {
   "display_name": "PySpark",
   "language": "python",
   "name": "pyspark"
  },
  "language_info": {
   "codemirror_mode": {
    "name": "ipython",
    "version": 3
   },
   "file_extension": ".py",
   "mimetype": "text/x-python",
   "name": "python",
   "nbconvert_exporter": "python",
   "pygments_lexer": "ipython3",
   "version": "3.6.9"
  },
  "toc": {
   "colors": {
    "hover_highlight": "#DAA520",
    "running_highlight": "#FF0000",
    "selected_highlight": "#FFD700"
   },
   "moveMenuLeft": true,
   "nav_menu": {
    "height": "12px",
    "width": "252px"
   },
   "navigate_menu": true,
   "number_sections": true,
   "sideBar": true,
   "threshold": 4,
   "toc_cell": false,
   "toc_section_display": "block",
   "toc_window_display": false,
   "widenNotebook": false
  }
 },
 "nbformat": 4,
 "nbformat_minor": 2
}
