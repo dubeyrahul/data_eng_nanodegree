{
 "cells": [
  {
   "cell_type": "code",
   "execution_count": 2,
   "metadata": {
    "collapsed": true
   },
   "outputs": [],
   "source": [
    "import pandas as pd"
   ]
  },
  {
   "cell_type": "code",
   "execution_count": 24,
   "metadata": {
    "collapsed": true
   },
   "outputs": [],
   "source": [
    "from pyspark.sql import functions as F"
   ]
  },
  {
   "cell_type": "code",
   "execution_count": 8,
   "metadata": {
    "collapsed": false
   },
   "outputs": [
    {
     "data": {
      "text/html": [
       "\n",
       "            <div>\n",
       "                <p><b>SparkSession - hive</b></p>\n",
       "                \n",
       "        <div>\n",
       "            <p><b>SparkContext</b></p>\n",
       "\n",
       "            <p><a href=\"http://rvdubey:4041\">Spark UI</a></p>\n",
       "\n",
       "            <dl>\n",
       "              <dt>Version</dt>\n",
       "                <dd><code>v2.4.5</code></dd>\n",
       "              <dt>Master</dt>\n",
       "                <dd><code>local[4]</code></dd>\n",
       "              <dt>AppName</dt>\n",
       "                <dd><code>pyspark-shell</code></dd>\n",
       "            </dl>\n",
       "        </div>\n",
       "        \n",
       "            </div>\n",
       "        "
      ],
      "text/plain": [
       "<pyspark.sql.session.SparkSession at 0x7f3703f43fd0>"
      ]
     },
     "execution_count": 8,
     "metadata": {},
     "output_type": "execute_result"
    }
   ],
   "source": [
    "spark"
   ]
  },
  {
   "cell_type": "code",
   "execution_count": 30,
   "metadata": {
    "collapsed": false
   },
   "outputs": [
    {
     "name": "stdout",
     "output_type": "stream",
     "text": [
      "root\n",
      " |-- dt: string (nullable = true)\n",
      " |-- AverageTemperature: string (nullable = true)\n",
      " |-- AverageTemperatureUncertainty: string (nullable = true)\n",
      " |-- City: string (nullable = true)\n",
      " |-- Country: string (nullable = true)\n",
      " |-- Latitude: string (nullable = true)\n",
      " |-- Longitude: string (nullable = true)\n",
      "\n"
     ]
    }
   ],
   "source": [
    "temperature_df = spark.read.option(\"header\",True).csv(\"GlobalLandTemperaturesByCity.csv\")\n",
    "temperature_df.printSchema()"
   ]
  },
  {
   "cell_type": "code",
   "execution_count": 31,
   "metadata": {
    "collapsed": false
   },
   "outputs": [
    {
     "data": {
      "text/plain": [
       "687289"
      ]
     },
     "execution_count": 31,
     "metadata": {},
     "output_type": "execute_result"
    }
   ],
   "source": [
    "us_temperature_df = temperature_df.filter(F.col('Country') == 'United States')\n",
    "us_temperature_df.count()"
   ]
  },
  {
   "cell_type": "code",
   "execution_count": 32,
   "metadata": {
    "collapsed": false
   },
   "outputs": [
    {
     "name": "stdout",
     "output_type": "stream",
     "text": [
      "root\n",
      " |-- month: string (nullable = true)\n",
      " |-- city: string (nullable = true)\n",
      " |-- avg_temperature: string (nullable = true)\n",
      "\n"
     ]
    }
   ],
   "source": [
    "@F.udf\n",
    "def date_to_month(date_string):\n",
    "    month = date_string.split(\"-\")[1]\n",
    "    return int(month)\n",
    "us_temperature_df = us_temperature_df.select(\n",
    "date_to_month(F.col('dt')).alias('month'),\n",
    "F.lower(F.col('City')).alias('city'),\n",
    "F.col('AverageTemperature').alias('avg_temperature'),\n",
    ")\n",
    "us_temperature_df.printSchema()"
   ]
  },
  {
   "cell_type": "code",
   "execution_count": 33,
   "metadata": {
    "collapsed": false
   },
   "outputs": [
    {
     "name": "stdout",
     "output_type": "stream",
     "text": [
      "+----------------+-----+---------------+\n",
      "|            city|month|avg_temperature|\n",
      "+----------------+-----+---------------+\n",
      "|      cape coral|    6|          26.07|\n",
      "|     gainesville|    6|           26.4|\n",
      "|      louisville|   10|          13.37|\n",
      "|            mesa|   12|           10.7|\n",
      "|      montgomery|    1|           7.02|\n",
      "|    newport news|    4|          13.24|\n",
      "|         norwalk|    6|          20.53|\n",
      "|    philadelphia|   11|           7.32|\n",
      "|         spokane|    6|           15.5|\n",
      "|      toms river|    6|          21.19|\n",
      "|     west jordan|    5|          14.19|\n",
      "|       anchorage|   11|         -11.06|\n",
      "|       baltimore|    2|           0.93|\n",
      "|         buffalo|    7|          20.89|\n",
      "|  corpus christi|   12|          13.62|\n",
      "|      evansville|   11|           7.59|\n",
      "|      fort wayne|    9|          17.68|\n",
      "|        hartford|    7|          21.57|\n",
      "|      huntsville|    1|           4.37|\n",
      "|         lansing|   11|           3.02|\n",
      "|     little rock|    4|          16.67|\n",
      "|   oklahoma city|   12|           3.26|\n",
      "|          olathe|    2|          -0.38|\n",
      "|        pasadena|   12|          10.71|\n",
      "|         phoenix|    5|          24.41|\n",
      "|          pomona|    3|          11.78|\n",
      "|       sunnyvale|    1|           8.28|\n",
      "|           tempe|    8|          31.64|\n",
      "|        torrance|   10|          16.97|\n",
      "|      carrollton|    9|          24.86|\n",
      "|       charlotte|    8|          25.65|\n",
      "|       cleveland|   12|          -1.26|\n",
      "|          dallas|   11|          12.44|\n",
      "|           flint|   12|          -2.78|\n",
      "|      fort wayne|   11|           4.05|\n",
      "|         hampton|   10|          17.25|\n",
      "|          irving|    3|          13.27|\n",
      "|   moreno valley|    1|           7.49|\n",
      "|   overland park|    8|          24.39|\n",
      "|        paterson|    6|          19.87|\n",
      "|       roseville|    8|          20.82|\n",
      "|       roseville|   12|           3.45|\n",
      "|          tacoma|    7|           15.4|\n",
      "|         abilene|    2|           7.53|\n",
      "|      birmingham|   11|          11.57|\n",
      "|         burbank|    4|          13.93|\n",
      "|      cape coral|   10|          24.85|\n",
      "|      chesapeake|   12|           7.84|\n",
      "|colorado springs|    5|          12.92|\n",
      "|          denton|    6|          26.66|\n",
      "|       fullerton|    3|          13.48|\n",
      "|         hialeah|    4|           22.6|\n",
      "|         houston|    2|          12.81|\n",
      "|    independence|    8|          24.39|\n",
      "|          lowell|   10|           8.59|\n",
      "|            mesa|    2|          12.63|\n",
      "|          newark|    8|           21.3|\n",
      "|         norfolk|   12|           7.84|\n",
      "|          peoria|    8|          26.27|\n",
      "|      saint paul|   12|           -9.7|\n",
      "|           tempe|    9|          28.36|\n",
      "|          arvada|    3|          -3.58|\n",
      "|        beaumont|    9|          25.57|\n",
      "|        berkeley|    2|          10.25|\n",
      "|          denver|    9|           15.9|\n",
      "|         garland|    2|           8.79|\n",
      "|         jackson|    9|          23.94|\n",
      "|         jackson|    2|           9.07|\n",
      "|         killeen|    4|          18.53|\n",
      "|       knoxville|    2|           3.83|\n",
      "|        lakewood|    4|           7.46|\n",
      "|       las vegas|    6|          26.66|\n",
      "|          lowell|    7|          20.72|\n",
      "|         modesto|    1|           3.59|\n",
      "|         modesto|    9|          18.53|\n",
      "|       oceanside|   10|          17.96|\n",
      "|       san diego|    2|          13.16|\n",
      "|      scottsdale|   10|          21.81|\n",
      "|   sunrise manor|    2|           8.46|\n",
      "|          toledo|    4|           8.94|\n",
      "|         windsor|    1|          -5.11|\n",
      "|         antioch|    8|          19.56|\n",
      "|       arlington|    3|           8.77|\n",
      "|          boston|    1|          -6.13|\n",
      "|       cambridge|    3|          -0.09|\n",
      "|         chicago|   11|           6.47|\n",
      "|   coral springs|    9|          26.86|\n",
      "|          dallas|   12|           7.69|\n",
      "|    garden grove|   12|          13.76|\n",
      "|       green bay|   11|           3.18|\n",
      "|        hartford|    3|           2.67|\n",
      "|huntington beach|    8|          20.01|\n",
      "|    independence|   10|          12.92|\n",
      "|        lakewood|    7|          21.82|\n",
      "|     little rock|    7|          27.31|\n",
      "|     los angeles|    7|          23.88|\n",
      "|      providence|    3|          -0.09|\n",
      "|      richardson|    7|          28.93|\n",
      "|       roseville|    4|           9.22|\n",
      "|           salem|    9|          14.74|\n",
      "+----------------+-----+---------------+\n",
      "only showing top 100 rows\n",
      "\n"
     ]
    }
   ],
   "source": [
    "us_temperature_agg = us_temperature_df.groupby(['city', 'month']).agg(\n",
    "F.round(F.avg('avg_temperature'),2).alias('avg_temperature'))\n",
    "us_temperature_agg.show(100)t"
   ]
  },
  {
   "cell_type": "code",
   "execution_count": 34,
   "metadata": {
    "collapsed": true
   },
   "outputs": [],
   "source": [
    "us_temperature_agg.repartition(2).write.mode('overwrite').parquet('data/temperature_transformed/')"
   ]
  },
  {
   "cell_type": "code",
   "execution_count": null,
   "metadata": {
    "collapsed": true
   },
   "outputs": [],
   "source": []
  }
 ],
 "metadata": {
  "kernelspec": {
   "display_name": "PySpark",
   "language": "python",
   "name": "pyspark"
  },
  "language_info": {
   "codemirror_mode": {
    "name": "ipython",
    "version": 3
   },
   "file_extension": ".py",
   "mimetype": "text/x-python",
   "name": "python",
   "nbconvert_exporter": "python",
   "pygments_lexer": "ipython3",
   "version": "3.6.9"
  },
  "toc": {
   "colors": {
    "hover_highlight": "#DAA520",
    "running_highlight": "#FF0000",
    "selected_highlight": "#FFD700"
   },
   "moveMenuLeft": true,
   "nav_menu": {
    "height": "12px",
    "width": "252px"
   },
   "navigate_menu": true,
   "number_sections": true,
   "sideBar": true,
   "threshold": 4,
   "toc_cell": false,
   "toc_section_display": "block",
   "toc_window_display": false,
   "widenNotebook": false
  }
 },
 "nbformat": 4,
 "nbformat_minor": 2
}
