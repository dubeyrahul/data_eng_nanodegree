{
 "cells": [
  {
   "cell_type": "code",
   "execution_count": 1,
   "metadata": {
    "collapsed": true,
    "deletable": true,
    "editable": true
   },
   "outputs": [],
   "source": [
    "import os\n",
    "from functools import reduce\n",
    "import pandas as pd"
   ]
  },
  {
   "cell_type": "code",
   "execution_count": 2,
   "metadata": {
    "collapsed": false,
    "deletable": true,
    "editable": true
   },
   "outputs": [],
   "source": [
    "from pyspark.sql import functions as F\n",
    "from pyspark.sql.types import IntegerType\n",
    "from pyspark.sql import DataFrame"
   ]
  },
  {
   "cell_type": "code",
   "execution_count": 3,
   "metadata": {
    "collapsed": false,
    "deletable": true,
    "editable": true
   },
   "outputs": [
    {
     "data": {
      "text/html": [
       "\n",
       "            <div>\n",
       "                <p><b>SparkSession - hive</b></p>\n",
       "                \n",
       "        <div>\n",
       "            <p><b>SparkContext</b></p>\n",
       "\n",
       "            <p><a href=\"http://rvdubey:4040\">Spark UI</a></p>\n",
       "\n",
       "            <dl>\n",
       "              <dt>Version</dt>\n",
       "                <dd><code>v2.4.5</code></dd>\n",
       "              <dt>Master</dt>\n",
       "                <dd><code>local[4]</code></dd>\n",
       "              <dt>AppName</dt>\n",
       "                <dd><code>pyspark-shell</code></dd>\n",
       "            </dl>\n",
       "        </div>\n",
       "        \n",
       "            </div>\n",
       "        "
      ],
      "text/plain": [
       "<pyspark.sql.session.SparkSession at 0x7ff0110ccfd0>"
      ]
     },
     "execution_count": 3,
     "metadata": {},
     "output_type": "execute_result"
    }
   ],
   "source": [
    "spark"
   ]
  },
  {
   "cell_type": "code",
   "execution_count": 3,
   "metadata": {
    "collapsed": false,
    "deletable": true,
    "editable": true
   },
   "outputs": [
    {
     "data": {
      "text/plain": [
       "JavaObject id=o38"
      ]
     },
     "execution_count": 3,
     "metadata": {},
     "output_type": "execute_result"
    }
   ],
   "source": [
    "spark.sparkContext._jsc.sc().listJars()"
   ]
  },
  {
   "cell_type": "markdown",
   "metadata": {
    "deletable": true,
    "editable": true
   },
   "source": [
    "**Reading the codes and mapping**"
   ]
  },
  {
   "cell_type": "code",
   "execution_count": 13,
   "metadata": {
    "code_folding": [],
    "collapsed": false,
    "deletable": true,
    "editable": true
   },
   "outputs": [],
   "source": [
    "i94port_map = dict()\n",
    "with open('i94port.txt') as f:\n",
    "    for line in f.readlines():\n",
    "        line = line.strip().split(\"=\")\n",
    "        code = eval(line[0]).strip()\n",
    "        location = eval(line[1]).strip()\n",
    "        location = location.split(',')\n",
    "        if len(location) < 2:\n",
    "            city, state = 'unknown', 'unknown'\n",
    "        else:\n",
    "            city, state = location[0].strip().lower(), location[1].strip().lower()\n",
    "        i94port_map[code] = (city, state)\n",
    "i94res_map = dict()\n",
    "with open('i94res.txt') as f:\n",
    "    for line in f.readlines():\n",
    "        line = line.strip().split(\"=\")\n",
    "        code = eval(line[0])\n",
    "        location = eval(line[1]).strip()\n",
    "        i94res_map[code] = location\n",
    "i94addr_map = dict()\n",
    "with open('i94addr.txt') as f:\n",
    "    for line in f.readlines():\n",
    "        line = line.strip().split(\"=\")\n",
    "        code = eval(line[0]).strip()\n",
    "        location = eval(line[1]).strip()\n",
    "        i94addr_map[code] = location"
   ]
  },
  {
   "cell_type": "code",
   "execution_count": 65,
   "metadata": {
    "collapsed": false,
    "deletable": true,
    "editable": true
   },
   "outputs": [],
   "source": [
    "for k,v in i94port_map.items():\n",
    "    if len(v)!=2:\n",
    "        print(k,v)"
   ]
  },
  {
   "cell_type": "code",
   "execution_count": 54,
   "metadata": {
    "collapsed": false,
    "deletable": true,
    "editable": true
   },
   "outputs": [],
   "source": [
    "base_dir = 'data/18-83510-I94-Data-2016'\n",
    "def read_sas_directory(dir_name):\n",
    "    sas_filenames = []\n",
    "    df_list = []\n",
    "    for filename in os.listdir(dir_name):\n",
    "        sas_filenames.append(os.path.join(dir_name, filename))\n",
    "    for filename in sas_filenames:\n",
    "        df = spark.read.format(\"com.github.saurfang.sas.spark\").load(filename)\n",
    "        df = df.select(['i94yr',\n",
    "                        'i94mon', \n",
    "                        'i94res',\n",
    "                        'i94port',\n",
    "                        'i94bir',\n",
    "                        'i94addr',\n",
    "                        'i94visa',\n",
    "                        'gender',\n",
    "                        'visatype'])\n",
    "        df_list.append(df)\n",
    "    i94_df = reduce(DataFrame.unionByName, df_list)\n",
    "    return i94_df.repartition(8)\n",
    "\n",
    "i94_data = read_sas_directory(base_dir)"
   ]
  },
  {
   "cell_type": "code",
   "execution_count": 55,
   "metadata": {
    "collapsed": false,
    "deletable": true,
    "editable": true
   },
   "outputs": [],
   "source": [
    "# filename = \"data/18-83510-I94-Data-2016/i94_apr16_sub.sas7bdat\"\n",
    "# i94_data_sample = spark.read.format(\"com.github.saurfang.sas.spark\").load(*sas_filenames)"
   ]
  },
  {
   "cell_type": "code",
   "execution_count": 56,
   "metadata": {
    "collapsed": false,
    "deletable": true,
    "editable": true
   },
   "outputs": [
    {
     "name": "stdout",
     "output_type": "stream",
     "text": [
      "root\n",
      " |-- i94yr: double (nullable = true)\n",
      " |-- i94mon: double (nullable = true)\n",
      " |-- i94res: double (nullable = true)\n",
      " |-- i94port: string (nullable = true)\n",
      " |-- i94bir: double (nullable = true)\n",
      " |-- i94addr: string (nullable = true)\n",
      " |-- i94visa: double (nullable = true)\n",
      " |-- gender: string (nullable = true)\n",
      " |-- visatype: string (nullable = true)\n",
      "\n"
     ]
    }
   ],
   "source": [
    "i94_data.printSchema()"
   ]
  },
  {
   "cell_type": "code",
   "execution_count": 66,
   "metadata": {
    "code_folding": [
     5
    ],
    "collapsed": false,
    "deletable": true,
    "editable": true
   },
   "outputs": [],
   "source": [
    "@F.udf\n",
    "def state_code_to_name(state_code):\n",
    "    return i94addr_map.get(state_code, \"all other codes\")\n",
    "        \n",
    "@F.udf\n",
    "def source_code_to_name(source_code):\n",
    "    return i94res_map.get(source_code, \"invalid\")\n",
    "\n",
    "@F.udf\n",
    "def destination_code_to_city(destination_code):\n",
    "    if destination_code in i94port_map:\n",
    "        return i94port_map[destination_code][0]\n",
    "    return \"unknown\""
   ]
  },
  {
   "cell_type": "code",
   "execution_count": 67,
   "metadata": {
    "collapsed": false,
    "deletable": true,
    "editable": true
   },
   "outputs": [
    {
     "name": "stdout",
     "output_type": "stream",
     "text": [
      "root\n",
      " |-- immigration_year: integer (nullable = true)\n",
      " |-- immigration_month: integer (nullable = true)\n",
      " |-- immigration_source: string (nullable = true)\n",
      " |-- immigration_destination_port: string (nullable = true)\n",
      " |-- immigrant_age: integer (nullable = true)\n",
      " |-- immigration_state: string (nullable = true)\n",
      " |-- visa_code: double (nullable = true)\n",
      " |-- gender: string (nullable = true)\n",
      " |-- visa_type: string (nullable = true)\n",
      "\n"
     ]
    }
   ],
   "source": [
    "i94_data_transformed = i94_data.select(\n",
    "    F.col('i94yr').cast(IntegerType()).alias('immigration_year'),\n",
    "    F.col('i94mon').cast(IntegerType()).alias('immigration_month'),\n",
    "    source_code_to_name(F.col('i94res')).alias('immigration_source'),\n",
    "    destination_code_to_city(F.col('i94port')).alias('immigration_destination_port'),\n",
    "    F.col('i94bir').cast(IntegerType()).alias('immigrant_age'),\n",
    "    state_code_to_name(F.col('i94addr')).alias('immigration_state'),\n",
    "    F.col('i94visa').alias('visa_code'),\n",
    "    F.col('gender'),\n",
    "    F.col('visatype').alias('visa_type')\n",
    ")\n",
    "i94_data_transformed.printSchema()"
   ]
  },
  {
   "cell_type": "code",
   "execution_count": 68,
   "metadata": {
    "collapsed": false,
    "deletable": true,
    "editable": true
   },
   "outputs": [],
   "source": [
    "# i94_data_transformed.show(10)"
   ]
  },
  {
   "cell_type": "code",
   "execution_count": 61,
   "metadata": {
    "collapsed": false,
    "deletable": true,
    "editable": true
   },
   "outputs": [
    {
     "name": "stdout",
     "output_type": "stream",
     "text": [
      "+-----------------+-------+\n",
      "|immigration_month|  count|\n",
      "+-----------------+-------+\n",
      "|               12|3432990|\n",
      "|                1|2847924|\n",
      "|                6|3574989|\n",
      "|                3|3157072|\n",
      "|                5|3444249|\n",
      "|                9|3733786|\n",
      "|                4|3096313|\n",
      "|                8|4103570|\n",
      "|                7|4265031|\n",
      "|               10|3649136|\n",
      "|               11|2914926|\n",
      "|                2|2570543|\n",
      "+-----------------+-------+\n",
      "\n"
     ]
    }
   ],
   "source": [
    "# i94_data_transformed.groupby('immigration_month').count().show()"
   ]
  },
  {
   "cell_type": "code",
   "execution_count": 69,
   "metadata": {
    "collapsed": false,
    "deletable": true,
    "editable": true
   },
   "outputs": [
    {
     "name": "stdout",
     "output_type": "stream",
     "text": [
      "root\n",
      " |-- immigration_year: integer (nullable = true)\n",
      " |-- immigration_month: integer (nullable = true)\n",
      " |-- immigration_source: string (nullable = true)\n",
      " |-- immigration_destination_port: string (nullable = true)\n",
      " |-- immigrant_age: integer (nullable = true)\n",
      " |-- immigration_state: string (nullable = true)\n",
      " |-- visa_code: double (nullable = true)\n",
      " |-- gender: string (nullable = true)\n",
      " |-- visa_type: string (nullable = true)\n",
      "\n"
     ]
    }
   ],
   "source": [
    "i94_data_transformed.printSchema()"
   ]
  },
  {
   "cell_type": "code",
   "execution_count": 70,
   "metadata": {
    "collapsed": false,
    "deletable": true,
    "editable": true
   },
   "outputs": [],
   "source": [
    "i94_data_transformed.repartition(8).write.mode('overwrite').parquet('data/i94_transformed/')"
   ]
  },
  {
   "cell_type": "code",
   "execution_count": 71,
   "metadata": {
    "collapsed": false,
    "deletable": true,
    "editable": true
   },
   "outputs": [
    {
     "name": "stdout",
     "output_type": "stream",
     "text": [
      "+----------------------------+\n",
      "|immigration_destination_port|\n",
      "+----------------------------+\n",
      "|                    new york|\n",
      "|                       agana|\n",
      "|                       agana|\n",
      "|                     chicago|\n",
      "|                      boston|\n",
      "|                 los angeles|\n",
      "|                     houston|\n",
      "|                       miami|\n",
      "|                       miami|\n",
      "|                     seattle|\n",
      "|                     seattle|\n",
      "|                     seattle|\n",
      "|                       miami|\n",
      "|                      saipan|\n",
      "|                     unknown|\n",
      "|                    new york|\n",
      "|                       miami|\n",
      "|                    new york|\n",
      "|               san francisco|\n",
      "|               san francisco|\n",
      "|                 los angeles|\n",
      "|                 los angeles|\n",
      "|                 los angeles|\n",
      "|                 los angeles|\n",
      "|                 los angeles|\n",
      "|                 los angeles|\n",
      "|                     chicago|\n",
      "|            newark/teterboro|\n",
      "|                      boston|\n",
      "|                      dallas|\n",
      "|                 los angeles|\n",
      "|                       agana|\n",
      "|                     phoenix|\n",
      "|                       miami|\n",
      "|                    new york|\n",
      "|                      boston|\n",
      "|                     seattle|\n",
      "|                     seattle|\n",
      "|                     unknown|\n",
      "|                     unknown|\n",
      "|                philadelphia|\n",
      "|                 los angeles|\n",
      "|                    new york|\n",
      "|                   charlotte|\n",
      "|                     spokane|\n",
      "|                      denver|\n",
      "|                     houston|\n",
      "|                     chicago|\n",
      "|                      dallas|\n",
      "|                 los angeles|\n",
      "|                 los angeles|\n",
      "|                      dallas|\n",
      "|                 los angeles|\n",
      "|            newark/teterboro|\n",
      "|                     detroit|\n",
      "|                      denver|\n",
      "|                     seattle|\n",
      "|                     houston|\n",
      "|                     houston|\n",
      "|                    new york|\n",
      "|                 los angeles|\n",
      "|                     detroit|\n",
      "|                     detroit|\n",
      "|                     unknown|\n",
      "|                   las vegas|\n",
      "|                     chicago|\n",
      "|                     chicago|\n",
      "|                     chicago|\n",
      "|                    new york|\n",
      "|                    new york|\n",
      "|                    new york|\n",
      "|                    new york|\n",
      "|            newark/teterboro|\n",
      "|                    new york|\n",
      "|                     chicago|\n",
      "|                     chicago|\n",
      "|                    new york|\n",
      "|                    new york|\n",
      "|                    new york|\n",
      "|                    new york|\n",
      "|                    new york|\n",
      "|                     chicago|\n",
      "|                    new york|\n",
      "|                    new york|\n",
      "|                     detroit|\n",
      "|                philadelphia|\n",
      "|                     seattle|\n",
      "|                    honolulu|\n",
      "|            newark/teterboro|\n",
      "|                 san antonio|\n",
      "|                 san antonio|\n",
      "|                       miami|\n",
      "|                       miami|\n",
      "|                       miami|\n",
      "|                       miami|\n",
      "|                 san antonio|\n",
      "|                 los angeles|\n",
      "|                 los angeles|\n",
      "|                     detroit|\n",
      "|            newark/teterboro|\n",
      "+----------------------------+\n",
      "only showing top 100 rows\n",
      "\n"
     ]
    }
   ],
   "source": [
    "i94_data_transformed.select('immigration_destination_port').show(100)"
   ]
  },
  {
   "cell_type": "code",
   "execution_count": null,
   "metadata": {
    "collapsed": true,
    "deletable": true,
    "editable": true
   },
   "outputs": [],
   "source": []
  }
 ],
 "metadata": {
  "kernelspec": {
   "display_name": "PySpark",
   "language": "python",
   "name": "pyspark"
  },
  "language_info": {
   "codemirror_mode": {
    "name": "ipython",
    "version": 3
   },
   "file_extension": ".py",
   "mimetype": "text/x-python",
   "name": "python",
   "nbconvert_exporter": "python",
   "pygments_lexer": "ipython3",
   "version": "3.6.9"
  },
  "toc": {
   "colors": {
    "hover_highlight": "#DAA520",
    "running_highlight": "#FF0000",
    "selected_highlight": "#FFD700"
   },
   "moveMenuLeft": true,
   "nav_menu": {
    "height": "12px",
    "width": "252px"
   },
   "navigate_menu": true,
   "number_sections": true,
   "sideBar": true,
   "threshold": 4,
   "toc_cell": false,
   "toc_section_display": "block",
   "toc_window_display": false,
   "widenNotebook": false
  }
 },
 "nbformat": 4,
 "nbformat_minor": 2
}
